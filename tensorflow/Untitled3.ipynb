{
 "cells": [
  {
   "cell_type": "code",
   "execution_count": 2,
   "metadata": {},
   "outputs": [
    {
     "data": {
      "image/png": "[encoded data removed]",
      "text/plain": [
       "<Figure size 432x288 with 32 Axes>"
      ]
     },
     "metadata": {
      "needs_background": "light"
     },
     "output_type": "display_data"
    }
   ],
   "source": [
    "import keras\n",
    "from keras.datasets import mnist\n",
    "from matplotlib import pyplot\n",
    "\n",
    "# MNISTのデータを読み込み\n",
    "(X_train, y_train), (X_test, y_test) = mnist.load_data()\n",
    "\n",
    "# データを4×8に出力\n",
    "for i in range(0, 32):\n",
    "    pyplot.subplot(4, 8, i + 1)\n",
    "    pyplot.imshow(X_train[i], cmap='gray')\n",
    "    \n",
    "pyplot.show()"
   ]
  },
  {
   "cell_type": "code",
   "execution_count": 3,
   "metadata": {},
   "outputs": [
    {
     "data": {
      "text/plain": [
       "array([[[0, 0, 0, ..., 0, 0, 0],\n",
       "        [0, 0, 0, ..., 0, 0, 0],\n",
       "        [0, 0, 0, ..., 0, 0, 0],\n",
       "        ...,\n",
       "        [0, 0, 0, ..., 0, 0, 0],\n",
       "        [0, 0, 0, ..., 0, 0, 0],\n",
       "        [0, 0, 0, ..., 0, 0, 0]],\n",
       "\n",
       "       [[0, 0, 0, ..., 0, 0, 0],\n",
       "        [0, 0, 0, ..., 0, 0, 0],\n",
       "        [0, 0, 0, ..., 0, 0, 0],\n",
       "        ...,\n",
       "        [0, 0, 0, ..., 0, 0, 0],\n",
       "        [0, 0, 0, ..., 0, 0, 0],\n",
       "        [0, 0, 0, ..., 0, 0, 0]],\n",
       "\n",
       "       [[0, 0, 0, ..., 0, 0, 0],\n",
       "        [0, 0, 0, ..., 0, 0, 0],\n",
       "        [0, 0, 0, ..., 0, 0, 0],\n",
       "        ...,\n",
       "        [0, 0, 0, ..., 0, 0, 0],\n",
       "        [0, 0, 0, ..., 0, 0, 0],\n",
       "        [0, 0, 0, ..., 0, 0, 0]],\n",
       "\n",
       "       ...,\n",
       "\n",
       "       [[0, 0, 0, ..., 0, 0, 0],\n",
       "        [0, 0, 0, ..., 0, 0, 0],\n",
       "        [0, 0, 0, ..., 0, 0, 0],\n",
       "        ...,\n",
       "        [0, 0, 0, ..., 0, 0, 0],\n",
       "        [0, 0, 0, ..., 0, 0, 0],\n",
       "        [0, 0, 0, ..., 0, 0, 0]],\n",
       "\n",
       "       [[0, 0, 0, ..., 0, 0, 0],\n",
       "        [0, 0, 0, ..., 0, 0, 0],\n",
       "        [0, 0, 0, ..., 0, 0, 0],\n",
       "        ...,\n",
       "        [0, 0, 0, ..., 0, 0, 0],\n",
       "        [0, 0, 0, ..., 0, 0, 0],\n",
       "        [0, 0, 0, ..., 0, 0, 0]],\n",
       "\n",
       "       [[0, 0, 0, ..., 0, 0, 0],\n",
       "        [0, 0, 0, ..., 0, 0, 0],\n",
       "        [0, 0, 0, ..., 0, 0, 0],\n",
       "        ...,\n",
       "        [0, 0, 0, ..., 0, 0, 0],\n",
       "        [0, 0, 0, ..., 0, 0, 0],\n",
       "        [0, 0, 0, ..., 0, 0, 0]]], dtype=uint8)"
      ]
     },
     "execution_count": 3,
     "metadata": {},
     "output_type": "execute_result"
    }
   ],
   "source": [
    "X_train"
   ]
  },
  {
   "cell_type": "code",
   "execution_count": 4,
   "metadata": {},
   "outputs": [
    {
     "data": {
      "text/plain": [
       "array([[0., 0., 0., ..., 0., 0., 0.],\n",
       "       [0., 0., 0., ..., 0., 0., 0.],\n",
       "       [0., 0., 0., ..., 0., 0., 0.],\n",
       "       ...,\n",
       "       [0., 0., 0., ..., 0., 0., 0.],\n",
       "       [0., 0., 0., ..., 0., 0., 0.],\n",
       "       [0., 0., 0., ..., 0., 0., 0.]], dtype=float32)"
      ]
     },
     "execution_count": 4,
     "metadata": {},
     "output_type": "execute_result"
    }
   ],
   "source": [
    "# データを28*28=784の一次元配列に変換\n",
    "X_train = X_train.reshape(-1, 784).astype('float32') / 255\n",
    "X_test = X_test.reshape(-1, 784).astype('float32') / 255\n",
    "\n",
    "# データを確認\n",
    "X_train"
   ]
  },
  {
   "cell_type": "code",
   "execution_count": 5,
   "metadata": {},
   "outputs": [],
   "source": [
    "# ラベルデータをOne-Hotベクトルに直す\n",
    "y_train = keras.utils.to_categorical(y_train.astype('int32'), 10)\n",
    "y_test = keras.utils.to_categorical(y_test.astype('int32'), 10)"
   ]
  },
  {
   "cell_type": "code",
   "execution_count": 7,
   "metadata": {},
   "outputs": [
    {
     "name": "stdout",
     "output_type": "stream",
     "text": [
      "Epoch 1/20\n",
      "3000/3000 [==============================] - 5s 2ms/step - loss: 0.1907 - accuracy: 0.9434\n",
      "Epoch 2/20\n",
      "3000/3000 [==============================] - 5s 2ms/step - loss: 0.0776 - accuracy: 0.9766\n",
      "Epoch 3/20\n",
      "3000/3000 [==============================] - 5s 2ms/step - loss: 0.0536 - accuracy: 0.9830\n",
      "Epoch 4/20\n",
      "3000/3000 [==============================] - 5s 2ms/step - loss: 0.0379 - accuracy: 0.9883\n",
      "Epoch 5/20\n",
      "3000/3000 [==============================] - 5s 2ms/step - loss: 0.0298 - accuracy: 0.9906\n",
      "Epoch 6/20\n",
      "3000/3000 [==============================] - 5s 2ms/step - loss: 0.0240 - accuracy: 0.9919\n",
      "Epoch 7/20\n",
      "3000/3000 [==============================] - 5s 2ms/step - loss: 0.0187 - accuracy: 0.9935\n",
      "Epoch 8/20\n",
      "3000/3000 [==============================] - 5s 2ms/step - loss: 0.0169 - accuracy: 0.9945\n",
      "Epoch 9/20\n",
      "3000/3000 [==============================] - 5s 2ms/step - loss: 0.0139 - accuracy: 0.9955\n",
      "Epoch 10/20\n",
      "3000/3000 [==============================] - 5s 2ms/step - loss: 0.0125 - accuracy: 0.9961\n",
      "Epoch 11/20\n",
      "3000/3000 [==============================] - 5s 2ms/step - loss: 0.0124 - accuracy: 0.9960\n",
      "Epoch 12/20\n",
      "3000/3000 [==============================] - 5s 2ms/step - loss: 0.0114 - accuracy: 0.9964\n",
      "Epoch 13/20\n",
      "3000/3000 [==============================] - 5s 2ms/step - loss: 0.0099 - accuracy: 0.9968\n",
      "Epoch 14/20\n",
      "3000/3000 [==============================] - 5s 2ms/step - loss: 0.0104 - accuracy: 0.9968\n",
      "Epoch 15/20\n",
      "3000/3000 [==============================] - 5s 2ms/step - loss: 0.0092 - accuracy: 0.9969\n",
      "Epoch 16/20\n",
      "3000/3000 [==============================] - 5s 2ms/step - loss: 0.0090 - accuracy: 0.9973\n",
      "Epoch 17/20\n",
      "3000/3000 [==============================] - 5s 2ms/step - loss: 0.0075 - accuracy: 0.9977\n",
      "Epoch 18/20\n",
      "3000/3000 [==============================] - 5s 2ms/step - loss: 0.0074 - accuracy: 0.9979\n",
      "Epoch 19/20\n",
      "3000/3000 [==============================] - 5s 2ms/step - loss: 0.0074 - accuracy: 0.9978\n",
      "Epoch 20/20\n",
      "3000/3000 [==============================] - 5s 2ms/step - loss: 0.0078 - accuracy: 0.9975\n",
      "313/313 [==============================] - 0s 944us/step - loss: 0.1366 - accuracy: 0.9809\n",
      "正解率= 0.98089998960495 loss= 0.13658328354358673\n"
     ]
    }
   ],
   "source": [
    "# 入力と出力を指定\n",
    "in_size = 28 * 28\n",
    "out_size = 10\n",
    "\n",
    "# モデル構造を定義\n",
    "Dense = keras.layers.Dense\n",
    "model = keras.models.Sequential()\n",
    "model.add(Dense(512, activation='relu', input_shape=(in_size,)))\n",
    "model.add(Dense(out_size, activation='softmax'))\n",
    "\n",
    "# モデルを構築\n",
    "model.compile(\n",
    "    loss = 'categorical_crossentropy',\n",
    "    optimizer='adam',\n",
    "    metrics = ['accuracy'])\n",
    "\n",
    "# 学習を実行\n",
    "model.fit(X_train, y_train, batch_size=20, epochs=20)\n",
    "\n",
    "# モデルを評価\n",
    "score = model.evaluate(X_test, y_test, verbose=1)\n",
    "print('正解率=', score[1], 'loss=', score[0])\n"
   ]
  },
  {
   "cell_type": "code",
   "execution_count": null,
   "metadata": {},
   "outputs": [],
   "source": []
  }
 ],
 "metadata": {
  "kernelspec": {
   "display_name": "Python 3",
   "language": "python",
   "name": "python3"
  },
  "language_info": {
   "codemirror_mode": {
    "name": "ipython",
    "version": 3
   },
   "file_extension": ".py",
   "mimetype": "text/x-python",
   "name": "python",
   "nbconvert_exporter": "python",
   "pygments_lexer": "ipython3",
   "version": "3.7.4"
  }
 },
 "nbformat": 4,
 "nbformat_minor": 2
}
