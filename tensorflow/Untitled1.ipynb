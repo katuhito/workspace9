{
 "cells": [
  {
   "cell_type": "code",
   "execution_count": 11,
   "metadata": {},
   "outputs": [
    {
     "name": "stdout",
     "output_type": "stream",
     "text": [
      "Epoch 1/10\n",
      "6/6 [==============================] - 0s 660us/step - loss: 6.0493 - accuracy: 0.3500\n",
      "Epoch 2/10\n",
      "6/6 [==============================] - 0s 914us/step - loss: 5.7680 - accuracy: 0.3500\n",
      "Epoch 3/10\n",
      "6/6 [==============================] - 0s 1ms/step - loss: 5.4847 - accuracy: 0.3500\n",
      "Epoch 4/10\n",
      "6/6 [==============================] - 0s 802us/step - loss: 5.2104 - accuracy: 0.3500\n",
      "Epoch 5/10\n",
      "6/6 [==============================] - 0s 979us/step - loss: 4.9364 - accuracy: 0.3500\n",
      "Epoch 6/10\n",
      "6/6 [==============================] - 0s 710us/step - loss: 4.6754 - accuracy: 0.3500\n",
      "Epoch 7/10\n",
      "6/6 [==============================] - 0s 904us/step - loss: 4.4249 - accuracy: 0.3500\n",
      "Epoch 8/10\n",
      "6/6 [==============================] - 0s 653us/step - loss: 4.1809 - accuracy: 0.3500\n",
      "Epoch 9/10\n",
      "6/6 [==============================] - 0s 773us/step - loss: 3.9255 - accuracy: 0.3500\n",
      "Epoch 10/10\n",
      "6/6 [==============================] - 0s 969us/step - loss: 3.6960 - accuracy: 0.3500\n",
      "1/1 [==============================] - 0s 823us/step - loss: 4.1143 - accuracy: 0.2667\n",
      "正解率= 0.2666666805744171 loss= 4.114338397979736\n"
     ]
    },
    {
     "data": {
      "text/plain": [
       "<Figure size 640x480 with 1 Axes>"
      ]
     },
     "metadata": {},
     "output_type": "display_data"
    }
   ],
   "source": [
    "import tensorflow as tf\n",
    "import tensorflow.keras as keras\n",
    "import numpy as np\n",
    "import pandas as pd\n",
    "from sklearn.model_selection import train_test_split\n",
    "\n",
    "# アヤメデータの読み込み\n",
    "iris_data = pd.read_csv(\"iris.csv\", encoding=\"utf-8\")\n",
    "\n",
    "# アヤメデータをラベルとデータに分離する\n",
    "y_labels = iris_data.loc[:, \"Name\"]\n",
    "x_data = iris_data.loc[:, [\"SepalLength\", \"SepalWidth\", \"PetalLength\", \"PetalWidth\"]]\n",
    "\n",
    "# ラベルデータをOne-Hotベクトルに直す\n",
    "labels = {\n",
    "    'Iris-setosa': [1, 0, 0],\n",
    "    'Iris-versicolor': [0, 1, 0],\n",
    "    'Iris-virginica': [0, 0, 1]\n",
    "}\n",
    "y_nums = np.array(list(map(lambda v : labels[v] , y_labels)))\n",
    "x_data = np.array(x_data)\n",
    "\n",
    "# 学習用とテスト用に分離する\n",
    "x_train, x_test, y_train, y_test = train_test_split(x_data, y_nums, train_size=0.8)\n",
    "\n",
    "# モデル構造を定義\n",
    "Dense = keras.layers.Dense\n",
    "model = keras.models.Sequential()\n",
    "model.add(Dense(10, activation='relu' , input_shape=(4,)))\n",
    "model.add(Dense(3, activation='softmax'))\n",
    "\n",
    "# モデルを構築\n",
    "model.compile(loss='categorical_crossentropy', optimizer='adam', metrics=['accuracy'])\n",
    "\n",
    "# アヤメの分類問題を修正\n",
    "import matplotlib.pyplot as plt\n",
    "epochs = 10\n",
    "\n",
    "# 学習を実行\n",
    "result = model.fit(x_train, y_train, batch_size=20, epochs=epochs)\n",
    "\n",
    "# モデルを評価\n",
    "score = model.evaluate(x_test, y_test, verbose=1)\n",
    "print('正解率=', score[1], 'loss=', score[0])\n",
    "\n",
    "# 学習の様子をグラフに描画\n",
    "plt.plot(range(1, epochs+1), result.history['accuracy'], label=\"training\")\n",
    "plt.plot(range(1, epochs+1), result.history['loss'], label=\"loss\")\n",
    "plt.xlabel('Epochs=' + str(epochs))\n",
    "plt.ylabel('Accuracy')\n",
    "plt.legend()\n",
    "plt.show()\n",
    "\n",
    "\n",
    "# # 学習を実行\n",
    "# model.fit(x_train, y_train, batch_size=20, epochs=300)\n",
    "\n",
    "# # モデルを評価\n",
    "# score = model.evaluate(x_test, y_test, verbose=1)\n",
    "# print('正解率=', score[1], 'loss=', score[0])\n",
    "\n",
    "\n",
    "\n",
    "\n",
    "\n"
   ]
  },
  {
   "cell_type": "code",
   "execution_count": null,
   "metadata": {},
   "outputs": [],
   "source": []
  },
  {
   "cell_type": "code",
   "execution_count": null,
   "metadata": {},
   "outputs": [],
   "source": []
  },
  {
   "cell_type": "code",
   "execution_count": null,
   "metadata": {},
   "outputs": [],
   "source": []
  },
  {
   "cell_type": "code",
   "execution_count": null,
   "metadata": {},
   "outputs": [],
   "source": []
  }
 ],
 "metadata": {
  "kernelspec": {
   "display_name": "Python 3",
   "language": "python",
   "name": "python3"
  },
  "language_info": {
   "codemirror_mode": {
    "name": "ipython",
    "version": 3
   },
   "file_extension": ".py",
   "mimetype": "text/x-python",
   "name": "python",
   "nbconvert_exporter": "python",
   "pygments_lexer": "ipython3",
   "version": "3.7.4"
  }
 },
 "nbformat": 4,
 "nbformat_minor": 2
}
